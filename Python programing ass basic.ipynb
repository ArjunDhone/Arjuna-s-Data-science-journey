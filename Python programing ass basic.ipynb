{
 "cells": [
  {
   "cell_type": "raw",
   "id": "d535c8a1-1d6e-496b-bd47-a95f21e1dd84",
   "metadata": {},
   "source": [
    "1. Write a Python program to print &quot;Hello Python&quot;?\n",
    "2. Write a Python program to do arithmetical operations addition and division.?\n",
    "3. Write a Python program to find the area of a triangle?\n",
    "4. Write a Python program to swap two variables?\n",
    "5. Write a Python program to generate a random number?\n"
   ]
  },
  {
   "cell_type": "code",
   "execution_count": 1,
   "id": "7f997dfe-9ddc-4fa0-8d4f-d136bedfaedf",
   "metadata": {},
   "outputs": [
    {
     "name": "stdout",
     "output_type": "stream",
     "text": [
      "Hello\n"
     ]
    }
   ],
   "source": [
    "# Write a Python program to print &quot;Hello Python&quot;?\n",
    "print (\"Hello\")"
   ]
  },
  {
   "cell_type": "code",
   "execution_count": 24,
   "id": "cbf8f4fc-41b6-4bd5-9740-a55aa70765ba",
   "metadata": {},
   "outputs": [
    {
     "name": "stdin",
     "output_type": "stream",
     "text": [
      "Enter a first number 10\n",
      "Enter a 2nd number  5\n"
     ]
    },
    {
     "name": "stdout",
     "output_type": "stream",
     "text": [
      "addition is 15\n",
      "division is 2.0\n"
     ]
    }
   ],
   "source": [
    "#2. Write a Python program to do arithmetical operations addition and division.?\n",
    "num1=int(input(\"Enter a first number\"))\n",
    "num2=int(input(\"Enter a 2nd number \"))\n",
    "add= num1+num2\n",
    "multiply = num1 /num2\n",
    "\n",
    "print(f\"addition is {add}\")\n",
    "print(f\"division is {multiply}\")"
   ]
  },
  {
   "cell_type": "code",
   "execution_count": 2,
   "id": "a8832070-76ad-4705-aa41-84aa89947433",
   "metadata": {},
   "outputs": [
    {
     "name": "stdin",
     "output_type": "stream",
     "text": [
      "Enter a base 10\n",
      "Enter height of the triangle 5\n"
     ]
    },
    {
     "name": "stdout",
     "output_type": "stream",
     "text": [
      "area of triangel is 25.0\n"
     ]
    }
   ],
   "source": [
    "#3. Write a Python program to find the area of a triangle?\n",
    "base=int(input(\"Enter a base\"))\n",
    "height=int(input(\"Enter height of the triangle\"))\n",
    "area= (0.5*(base*height))\n",
    "print(f\"area of triangel is {area}\")"
   ]
  },
  {
   "cell_type": "code",
   "execution_count": 4,
   "id": "53baca81-e12f-44ef-a0d9-b6455d29b1c0",
   "metadata": {},
   "outputs": [
    {
     "name": "stdin",
     "output_type": "stream",
     "text": [
      "Enter a 1st number 10\n",
      "Enter a 2nd number 20\n"
     ]
    },
    {
     "name": "stdout",
     "output_type": "stream",
     "text": [
      "So first number a becocmes 20 and 2nd number b becomes 10\n"
     ]
    }
   ],
   "source": [
    "#4. Write a Python program to swap two variables?\n",
    "a=input(\"Enter a 1st number\")\n",
    "b=input(\"Enter a 2nd number\")\n",
    "a,b=b,a\n",
    "print(f\"So first number a becocmes {a} and 2nd number b becomes {b}\")\n"
   ]
  },
  {
   "cell_type": "code",
   "execution_count": null,
   "id": "dfaf5b3c-0414-4557-ad07-bf8a8bd3154d",
   "metadata": {},
   "outputs": [],
   "source": [
    "#5. Write a Python program to generate a random number?\n"
   ]
  }
 ],
 "metadata": {
  "kernelspec": {
   "display_name": "Python 3 (ipykernel)",
   "language": "python",
   "name": "python3"
  },
  "language_info": {
   "codemirror_mode": {
    "name": "ipython",
    "version": 3
   },
   "file_extension": ".py",
   "mimetype": "text/x-python",
   "name": "python",
   "nbconvert_exporter": "python",
   "pygments_lexer": "ipython3",
   "version": "3.10.6"
  }
 },
 "nbformat": 4,
 "nbformat_minor": 5
}
