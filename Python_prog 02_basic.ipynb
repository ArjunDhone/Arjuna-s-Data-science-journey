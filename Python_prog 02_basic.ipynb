{
 "cells": [
  {
   "cell_type": "raw",
   "id": "92a2b724-ea88-46fb-8ef2-e49694cf01c4",
   "metadata": {},
   "source": [
    "1. Write a Python program to convert kilometers to miles?\n",
    "2. Write a Python program to convert Celsius to Fahrenheit?\n",
    "3. Write a Python program to display calendar?\n",
    "4. Write a Python program to solve quadratic equation?\n",
    "5. Write a Python program to swap two variables without temp variable?"
   ]
  },
  {
   "cell_type": "code",
   "execution_count": 9,
   "id": "d00b1807-a0ef-4eed-8a9a-ea34e3b0ed66",
   "metadata": {},
   "outputs": [
    {
     "name": "stdin",
     "output_type": "stream",
     "text": [
      "Enter the number in km you want convert to miles 100\n"
     ]
    },
    {
     "data": {
      "text/plain": [
       "'the 100 km is 62.0 miles'"
      ]
     },
     "execution_count": 9,
     "metadata": {},
     "output_type": "execute_result"
    }
   ],
   "source": [
    "#1. Write a Python program to convert kilometers to miles?\n",
    "def km_to_miles():\n",
    "    num1=int(input(\"Enter the number in km you want convert to miles\"))\n",
    "    num2=(0.62*num1)\n",
    "    return \"the {} km is {} miles\".format(num1,num2)\n",
    "km_to_miles()"
   ]
  },
  {
   "cell_type": "code",
   "execution_count": 11,
   "id": "6bbd6c3d-be69-4111-81e7-39b1c979a485",
   "metadata": {},
   "outputs": [
    {
     "name": "stdin",
     "output_type": "stream",
     "text": [
      "Enter a temp in farehnite 98.6\n"
     ]
    },
    {
     "data": {
      "text/plain": [
       "36.99999999999999"
      ]
     },
     "execution_count": 11,
     "metadata": {},
     "output_type": "execute_result"
    }
   ],
   "source": [
    "#2. Write a Python program to convert Celsius to Fahrenheit? f-32/1.8\n",
    "def f_to_c():\n",
    "    n1=float(input(\"Enter a temp in farehnite\"))\n",
    "    c=((n1-32)/1.8)\n",
    "    return c\n",
    "f_to_c()"
   ]
  },
  {
   "cell_type": "code",
   "execution_count": 23,
   "id": "b32d7963-863f-422f-bf4c-8ce79b2b0609",
   "metadata": {},
   "outputs": [
    {
     "name": "stdin",
     "output_type": "stream",
     "text": [
      "Enter year:  2023\n",
      "Enter month:  05\n"
     ]
    },
    {
     "name": "stdout",
     "output_type": "stream",
     "text": [
      "      May 2023\n",
      "Mo Tu We Th Fr Sa Su\n",
      " 1  2  3  4  5  6  7\n",
      " 8  9 10 11 12 13 14\n",
      "15 16 17 18 19 20 21\n",
      "22 23 24 25 26 27 28\n",
      "29 30 31\n",
      "\n"
     ]
    }
   ],
   "source": [
    "#3. Write a Python program to display calendar?\n",
    "# importing calendar module\n",
    "import calendar\n",
    "\n",
    "# To take month and year input from the user\n",
    "yy = int(input(\"Enter year: \"))\n",
    "mm = int(input(\"Enter month: \"))\n",
    "\n",
    "# display the calendar\n",
    "print(calendar.month(yy, mm))\n"
   ]
  },
  {
   "cell_type": "code",
   "execution_count": 19,
   "id": "104565d1-b4b8-4640-a795-e52eb30a9a06",
   "metadata": {},
   "outputs": [],
   "source": [
    "#Write a Python program to solve quadratic equation?\n"
   ]
  },
  {
   "cell_type": "code",
   "execution_count": 17,
   "id": "35858cd4-de68-448a-8e6f-2b5d57e83ae9",
   "metadata": {},
   "outputs": [],
   "source": [
    "#5. Write a Python program to swap two variables without temp variable?\n",
    "def swap_no():\n",
    "    num1=input(\"Enter 1 st number\")\n",
    "    num2=input(\"Enter 2 nd number\")\n",
    "    num2,num1=num1,num2\n",
    "    return \" after swap num1 is {} and num2 is {}\".format(num1,num2)"
   ]
  },
  {
   "cell_type": "code",
   "execution_count": 18,
   "id": "b51fb5fa-9777-4449-b4b1-fb3c95e907b2",
   "metadata": {},
   "outputs": [
    {
     "name": "stdin",
     "output_type": "stream",
     "text": [
      "Enter 1 st number 9\n",
      "Enter 2 nd number 2\n"
     ]
    },
    {
     "data": {
      "text/plain": [
       "' after swap num1 is 2 and num2 is 9'"
      ]
     },
     "execution_count": 18,
     "metadata": {},
     "output_type": "execute_result"
    }
   ],
   "source": [
    "swap_no()"
   ]
  },
  {
   "cell_type": "code",
   "execution_count": null,
   "id": "ff596629-ff46-4425-ac8e-0d939e291dcf",
   "metadata": {},
   "outputs": [],
   "source": []
  }
 ],
 "metadata": {
  "kernelspec": {
   "display_name": "Python 3 (ipykernel)",
   "language": "python",
   "name": "python3"
  },
  "language_info": {
   "codemirror_mode": {
    "name": "ipython",
    "version": 3
   },
   "file_extension": ".py",
   "mimetype": "text/x-python",
   "name": "python",
   "nbconvert_exporter": "python",
   "pygments_lexer": "ipython3",
   "version": "3.10.6"
  }
 },
 "nbformat": 4,
 "nbformat_minor": 5
}
