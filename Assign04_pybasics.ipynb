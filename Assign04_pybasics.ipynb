{
 "cells": [
  {
   "cell_type": "raw",
   "id": "2e723430-2e7a-48e6-8cc2-a3d57c7f9b90",
   "metadata": {},
   "source": [
    "1. What exactly is []?\n",
    "Ans: The empty list value, which is a list value that contains no items. This is similar to how '' is the empty string value.\n",
    "\n",
    "2. In a list of values stored in a variable called spam, how would you assign the value &#39;hello&#39; as the\n",
    "third value? (Assume [2, 4, 6, 8, 10] are in spam.)\n",
    "Ans : spam.insert(2,\"hello\")\n",
    "\n",
    "Let&#39;s pretend the spam includes the list [&#39;a&#39;, &#39;b&#39;, &#39;c&#39;, &#39;d&#39;] for the next three queries.\n",
    "3. What is the value of spam[int(int(&#39;3&#39; * 2) / 11)]?\n",
    "Ans: 33/11=3\n",
    "spam[3]==d\n",
    "4. What is the value of spam[-1]?\n",
    "ans d\n",
    "5. What is the value of spam[:2]?\n",
    "ans a,b\n",
    "\n",
    "Let&#39;s pretend bacon has the list [3.14, &#39;cat,&#39; 11, &#39;cat,&#39; True] for the next three questions.\n",
    "\n",
    "6. What is the value of bacon.index(&#39;cat&#39;)?\n",
    "Ans: 1\n",
    "7. How does bacon.append(99) change the look of the list value in bacon?\n",
    "Ans:[3.14, 'cat', 11, 'cat', True, 99]\n",
    "\n",
    "8. How does bacon.remove(&#39;cat&#39;) change the look of the list in bacon?\n",
    "Ans: [3.14, 11, 'cat', True, 99]\n",
    "9. What are the list concatenation and list replication operators?\n",
    "Ans: The operator for list concatenation is +, while the operator for replication is *.\n",
    "10. What is difference between the list methods append() and insert()?\n",
    "Ans:While append() will add values only to the end of a list, insert() can add them anywhere in the list.\n",
    "11. What are the two methods for removing items from a list?\n",
    "ANS:The del statement and the remove() list method are two ways to remove values from a list.\n",
    "12. Describe how list values and string values are identical.\n",
    "Ans:Both lists and strings can be passed to len(), have indexes and slices, be used in for loops, be concatenated or replicated, and be used with the in and not in operators.\n",
    "\n",
    "13. What&#39;s the difference between tuples and lists?\n",
    "Ans:Lists are mutable; they can have values added, removed, or changed. Tuples are immutable; they cannot be changed at all. Also, tuples are written using parentheses, ( and ), while lists use the square brackets, [ and ].\n",
    "\n",
    "14. How do you type a tuple value that only contains the integer 42?\n",
    "Ans:(42)\n",
    "\n",
    "15. How do you get a list value&#39;s tuple form? How do you get a tuple value&#39;s list form?\n",
    "Ans:The tuple() and list() functions, respectively\n",
    " \n",
    "16. Variables that &quot;contain&quot; list values are not necessarily lists themselves. Instead, what do they\n",
    "contain?\n",
    "They contain references to list values.\n",
    "\n",
    "\n",
    "17. How do you distinguish between copy.copy() and copy.deepcopy()?\n",
    "Ans:The copy.copy() function will do a shallow copy of a list, while the copy.deepcopy() function will do a deep copy of a list. That is, only copy.deepcopy() will duplicate any lists inside the list."
   ]
  }
 ],
 "metadata": {
  "kernelspec": {
   "display_name": "Python 3 (ipykernel)",
   "language": "python",
   "name": "python3"
  },
  "language_info": {
   "codemirror_mode": {
    "name": "ipython",
    "version": 3
   },
   "file_extension": ".py",
   "mimetype": "text/x-python",
   "name": "python",
   "nbconvert_exporter": "python",
   "pygments_lexer": "ipython3",
   "version": "3.10.6"
  }
 },
 "nbformat": 4,
 "nbformat_minor": 5
}
